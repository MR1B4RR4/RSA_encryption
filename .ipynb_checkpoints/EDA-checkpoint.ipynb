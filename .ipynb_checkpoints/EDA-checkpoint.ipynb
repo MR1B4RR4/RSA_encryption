{
 "cells": [
  {
   "cell_type": "code",
   "execution_count": 1,
   "id": "bc064612",
   "metadata": {},
   "outputs": [],
   "source": [
    "import pandas as pd\n",
    "import numpy as np"
   ]
  },
  {
   "cell_type": "code",
   "execution_count": 2,
   "id": "4e32f60d",
   "metadata": {},
   "outputs": [],
   "source": [
    "def aplicar_padding(lista, max_len, valor_padding=0):\n",
    "    return lista + [valor_padding] * (max_len - len(lista))"
   ]
  },
  {
   "cell_type": "code",
   "execution_count": 3,
   "id": "6bb5cefc",
   "metadata": {
    "scrolled": true
   },
   "outputs": [
    {
     "data": {
      "text/html": [
       "<div>\n",
       "<style scoped>\n",
       "    .dataframe tbody tr th:only-of-type {\n",
       "        vertical-align: middle;\n",
       "    }\n",
       "\n",
       "    .dataframe tbody tr th {\n",
       "        vertical-align: top;\n",
       "    }\n",
       "\n",
       "    .dataframe thead th {\n",
       "        text-align: right;\n",
       "    }\n",
       "</style>\n",
       "<table border=\"1\" class=\"dataframe\">\n",
       "  <thead>\n",
       "    <tr style=\"text-align: right;\">\n",
       "      <th></th>\n",
       "      <th>word</th>\n",
       "      <th>token</th>\n",
       "      <th>token_cut</th>\n",
       "      <th>encrypted</th>\n",
       "      <th>token_length</th>\n",
       "      <th>encrypted_eval</th>\n",
       "      <th>token_cut_eval</th>\n",
       "    </tr>\n",
       "  </thead>\n",
       "  <tbody>\n",
       "    <tr>\n",
       "      <th>0</th>\n",
       "      <td>love's m</td>\n",
       "      <td>8689967917931087</td>\n",
       "      <td>[86, 89, 96, 79, 17, 93, 10, 87]</td>\n",
       "      <td>[151, 1139, 147, 1011, 2146, 489, 1184, 2166]</td>\n",
       "      <td>16</td>\n",
       "      <td>[151, 1139, 147, 1011, 2146, 489, 1184, 2166]</td>\n",
       "      <td>[86, 89, 96, 79, 17, 93, 10, 87]</td>\n",
       "    </tr>\n",
       "    <tr>\n",
       "      <th>1</th>\n",
       "      <td>ajesty\\nT</td>\n",
       "      <td>75847993949962</td>\n",
       "      <td>[75, 84, 79, 93, 94, 99, 62]</td>\n",
       "      <td>[1082, 1859, 1011, 489, 2032, 870, 526]</td>\n",
       "      <td>14</td>\n",
       "      <td>[1082, 1859, 1011, 489, 2032, 870, 526]</td>\n",
       "      <td>[75, 84, 79, 93, 94, 99, 62]</td>\n",
       "    </tr>\n",
       "    <tr>\n",
       "      <th>2</th>\n",
       "      <td>o fright</td>\n",
       "      <td>8910809283818294</td>\n",
       "      <td>[89, 10, 80, 92, 83, 81, 82, 94]</td>\n",
       "      <td>[1139, 1184, 1671, 1058, 2372, 1372, 742, 2032]</td>\n",
       "      <td>16</td>\n",
       "      <td>[1139, 1184, 1671, 1058, 2372, 1372, 742, 2032]</td>\n",
       "      <td>[89, 10, 80, 92, 83, 81, 82, 94]</td>\n",
       "    </tr>\n",
       "    <tr>\n",
       "      <th>3</th>\n",
       "      <td>ful adve</td>\n",
       "      <td>8095861075789679</td>\n",
       "      <td>[80, 95, 86, 10, 75, 78, 96, 79]</td>\n",
       "      <td>[1671, 613, 151, 1184, 1082, 1159, 147, 1011]</td>\n",
       "      <td>16</td>\n",
       "      <td>[1671, 613, 151, 1184, 1082, 1159, 147, 1011]</td>\n",
       "      <td>[80, 95, 86, 10, 75, 78, 96, 79]</td>\n",
       "    </tr>\n",
       "    <tr>\n",
       "      <th>4</th>\n",
       "      <td>rsaries,</td>\n",
       "      <td>9293759283799322</td>\n",
       "      <td>[92, 93, 75, 92, 83, 79, 93, 22]</td>\n",
       "      <td>[1058, 489, 1082, 1058, 2372, 1011, 489, 40]</td>\n",
       "      <td>16</td>\n",
       "      <td>[1058, 489, 1082, 1058, 2372, 1011, 489, 40]</td>\n",
       "      <td>[92, 93, 75, 92, 83, 79, 93, 22]</td>\n",
       "    </tr>\n",
       "    <tr>\n",
       "      <th>...</th>\n",
       "      <td>...</td>\n",
       "      <td>...</td>\n",
       "      <td>...</td>\n",
       "      <td>...</td>\n",
       "      <td>...</td>\n",
       "      <td>...</td>\n",
       "      <td>...</td>\n",
       "    </tr>\n",
       "    <tr>\n",
       "      <th>5508</th>\n",
       "      <td>nd to \"d</td>\n",
       "      <td>8878109489101278</td>\n",
       "      <td>[88, 78, 10, 94, 89, 10, 12, 78]</td>\n",
       "      <td>[476, 1159, 1184, 2032, 1139, 1184, 1584, 1159]</td>\n",
       "      <td>16</td>\n",
       "      <td>[476, 1159, 1184, 2032, 1139, 1184, 1584, 1159]</td>\n",
       "      <td>[88, 78, 10, 94, 89, 10, 12, 78]</td>\n",
       "    </tr>\n",
       "    <tr>\n",
       "      <th>5509</th>\n",
       "      <td>estroy a</td>\n",
       "      <td>7993949289991075</td>\n",
       "      <td>[79, 93, 94, 92, 89, 99, 10, 75]</td>\n",
       "      <td>[1011, 489, 2032, 1058, 1139, 870, 1184, 1082]</td>\n",
       "      <td>16</td>\n",
       "      <td>[1011, 489, 2032, 1058, 1139, 870, 1184, 1082]</td>\n",
       "      <td>[79, 93, 94, 92, 89, 99, 10, 75]</td>\n",
       "    </tr>\n",
       "    <tr>\n",
       "      <th>5510</th>\n",
       "      <td>ll CRIME</td>\n",
       "      <td>8686104560515547</td>\n",
       "      <td>[86, 86, 10, 45, 60, 51, 55, 47]</td>\n",
       "      <td>[151, 151, 1184, 2299, 686, 1770, 2261, 1885]</td>\n",
       "      <td>16</td>\n",
       "      <td>[151, 151, 1184, 2299, 686, 1770, 2261, 1885]</td>\n",
       "      <td>[86, 86, 10, 45, 60, 51, 55, 47]</td>\n",
       "    </tr>\n",
       "    <tr>\n",
       "      <th>5511</th>\n",
       "      <td>s\" in Cw</td>\n",
       "      <td>9312108388104597</td>\n",
       "      <td>[93, 12, 10, 83, 88, 10, 45, 97]</td>\n",
       "      <td>[489, 1584, 1184, 2372, 476, 1184, 2299, 873]</td>\n",
       "      <td>16</td>\n",
       "      <td>[489, 1584, 1184, 2372, 476, 1184, 2299, 873]</td>\n",
       "      <td>[93, 12, 10, 83, 88, 10, 45, 97]</td>\n",
       "    </tr>\n",
       "    <tr>\n",
       "      <th>5512</th>\n",
       "      <td>cville.</td>\n",
       "      <td>77968386867924</td>\n",
       "      <td>[77, 96, 83, 86, 86, 79, 24]</td>\n",
       "      <td>[2145, 147, 2372, 151, 151, 1011, 2051]</td>\n",
       "      <td>14</td>\n",
       "      <td>[2145, 147, 2372, 151, 151, 1011, 2051]</td>\n",
       "      <td>[77, 96, 83, 86, 86, 79, 24]</td>\n",
       "    </tr>\n",
       "  </tbody>\n",
       "</table>\n",
       "<p>5513 rows × 7 columns</p>\n",
       "</div>"
      ],
      "text/plain": [
       "           word             token                         token_cut  \\\n",
       "0      love's m  8689967917931087  [86, 89, 96, 79, 17, 93, 10, 87]   \n",
       "1     ajesty\\nT    75847993949962      [75, 84, 79, 93, 94, 99, 62]   \n",
       "2      o fright  8910809283818294  [89, 10, 80, 92, 83, 81, 82, 94]   \n",
       "3      ful adve  8095861075789679  [80, 95, 86, 10, 75, 78, 96, 79]   \n",
       "4      rsaries,  9293759283799322  [92, 93, 75, 92, 83, 79, 93, 22]   \n",
       "...         ...               ...                               ...   \n",
       "5508   nd to \"d  8878109489101278  [88, 78, 10, 94, 89, 10, 12, 78]   \n",
       "5509   estroy a  7993949289991075  [79, 93, 94, 92, 89, 99, 10, 75]   \n",
       "5510   ll CRIME  8686104560515547  [86, 86, 10, 45, 60, 51, 55, 47]   \n",
       "5511   s\" in Cw  9312108388104597  [93, 12, 10, 83, 88, 10, 45, 97]   \n",
       "5512    cville.    77968386867924      [77, 96, 83, 86, 86, 79, 24]   \n",
       "\n",
       "                                            encrypted  token_length  \\\n",
       "0       [151, 1139, 147, 1011, 2146, 489, 1184, 2166]            16   \n",
       "1             [1082, 1859, 1011, 489, 2032, 870, 526]            14   \n",
       "2     [1139, 1184, 1671, 1058, 2372, 1372, 742, 2032]            16   \n",
       "3       [1671, 613, 151, 1184, 1082, 1159, 147, 1011]            16   \n",
       "4        [1058, 489, 1082, 1058, 2372, 1011, 489, 40]            16   \n",
       "...                                               ...           ...   \n",
       "5508  [476, 1159, 1184, 2032, 1139, 1184, 1584, 1159]            16   \n",
       "5509   [1011, 489, 2032, 1058, 1139, 870, 1184, 1082]            16   \n",
       "5510    [151, 151, 1184, 2299, 686, 1770, 2261, 1885]            16   \n",
       "5511    [489, 1584, 1184, 2372, 476, 1184, 2299, 873]            16   \n",
       "5512          [2145, 147, 2372, 151, 151, 1011, 2051]            14   \n",
       "\n",
       "                                       encrypted_eval  \\\n",
       "0       [151, 1139, 147, 1011, 2146, 489, 1184, 2166]   \n",
       "1             [1082, 1859, 1011, 489, 2032, 870, 526]   \n",
       "2     [1139, 1184, 1671, 1058, 2372, 1372, 742, 2032]   \n",
       "3       [1671, 613, 151, 1184, 1082, 1159, 147, 1011]   \n",
       "4        [1058, 489, 1082, 1058, 2372, 1011, 489, 40]   \n",
       "...                                               ...   \n",
       "5508  [476, 1159, 1184, 2032, 1139, 1184, 1584, 1159]   \n",
       "5509   [1011, 489, 2032, 1058, 1139, 870, 1184, 1082]   \n",
       "5510    [151, 151, 1184, 2299, 686, 1770, 2261, 1885]   \n",
       "5511    [489, 1584, 1184, 2372, 476, 1184, 2299, 873]   \n",
       "5512          [2145, 147, 2372, 151, 151, 1011, 2051]   \n",
       "\n",
       "                        token_cut_eval  \n",
       "0     [86, 89, 96, 79, 17, 93, 10, 87]  \n",
       "1         [75, 84, 79, 93, 94, 99, 62]  \n",
       "2     [89, 10, 80, 92, 83, 81, 82, 94]  \n",
       "3     [80, 95, 86, 10, 75, 78, 96, 79]  \n",
       "4     [92, 93, 75, 92, 83, 79, 93, 22]  \n",
       "...                                ...  \n",
       "5508  [88, 78, 10, 94, 89, 10, 12, 78]  \n",
       "5509  [79, 93, 94, 92, 89, 99, 10, 75]  \n",
       "5510  [86, 86, 10, 45, 60, 51, 55, 47]  \n",
       "5511  [93, 12, 10, 83, 88, 10, 45, 97]  \n",
       "5512      [77, 96, 83, 86, 86, 79, 24]  \n",
       "\n",
       "[5513 rows x 7 columns]"
      ]
     },
     "execution_count": 3,
     "metadata": {},
     "output_type": "execute_result"
    }
   ],
   "source": [
    "df = pd.read_excel('DF_for_EDA.xlsx')\n",
    "df.drop('Unnamed: 0', axis=1, inplace=True)\n",
    "df = df[df['token_length'] % 2 == 0]\n",
    "df = df.reset_index()\n",
    "df.drop('index', axis=1, inplace=True)\n",
    "df['encrypted_eval'] = df['encrypted'].apply(lambda x: eval(x))\n",
    "df['token_cut_eval'] = df['token_cut'].apply(lambda x: eval(x))\n",
    "max_element = max([len(i) for i in df['encrypted_eval']])\n",
    "\n",
    "df"
   ]
  },
  {
   "cell_type": "code",
   "execution_count": 4,
   "id": "a9e4f3aa",
   "metadata": {
    "scrolled": true
   },
   "outputs": [],
   "source": [
    "df['encrypted_padded'] = df['encrypted_eval'].apply(lambda x: aplicar_padding(x, max_element))"
   ]
  },
  {
   "cell_type": "code",
   "execution_count": 5,
   "id": "3a1f0129",
   "metadata": {},
   "outputs": [
    {
     "data": {
      "text/plain": [
       "8"
      ]
     },
     "execution_count": 5,
     "metadata": {},
     "output_type": "execute_result"
    }
   ],
   "source": [
    "len(eval(df['token_cut'][0]))"
   ]
  },
  {
   "cell_type": "code",
   "execution_count": 6,
   "id": "689c3e06",
   "metadata": {},
   "outputs": [
    {
     "data": {
      "text/plain": [
       "8"
      ]
     },
     "execution_count": 6,
     "metadata": {},
     "output_type": "execute_result"
    }
   ],
   "source": [
    "len(eval(df['encrypted'][0]))"
   ]
  },
  {
   "cell_type": "code",
   "execution_count": 8,
   "id": "9d30e9da",
   "metadata": {
    "scrolled": true
   },
   "outputs": [
    {
     "name": "stdout",
     "output_type": "stream",
     "text": [
      "5513\n"
     ]
    }
   ],
   "source": [
    "k = 0\n",
    "dict_for_model = {}\n",
    "for i in range(len(df['token_cut_eval'])):\n",
    "    k += 1\n",
    "    for j in range(len(df['token_cut_eval'][i])):\n",
    "        dict_for_model[df['token_cut_eval'][i][j]] = df['encrypted_eval'][i][j]\n",
    "print(k)"
   ]
  },
  {
   "cell_type": "code",
   "execution_count": 9,
   "id": "cc6302f8",
   "metadata": {
    "scrolled": true
   },
   "outputs": [
    {
     "data": {
      "text/plain": [
       "{86: 151,\n",
       " 89: 1139,\n",
       " 96: 147,\n",
       " 79: 1011,\n",
       " 17: 2146,\n",
       " 93: 489,\n",
       " 10: 1184,\n",
       " 87: 2166,\n",
       " 75: 1082,\n",
       " 84: 1859,\n",
       " 94: 2032,\n",
       " 99: 870,\n",
       " 62: 526,\n",
       " 80: 1671,\n",
       " 92: 1058,\n",
       " 83: 2372,\n",
       " 81: 1372,\n",
       " 82: 742,\n",
       " 95: 613,\n",
       " 78: 1159,\n",
       " 22: 40,\n",
       " 57: 801,\n",
       " 76: 2057,\n",
       " 88: 476,\n",
       " 90: 1189,\n",
       " 97: 873,\n",
       " 77: 2145,\n",
       " 55: 2261,\n",
       " 24: 2051,\n",
       " 56: 1431,\n",
       " 85: 1629,\n",
       " 37: 231,\n",
       " 51: 1770,\n",
       " 50: 1533,\n",
       " 44: 223,\n",
       " 23: 1599,\n",
       " 49: 370,\n",
       " 43: 1642,\n",
       " 67: 468,\n",
       " 60: 686,\n",
       " 61: 971,\n",
       " 54: 2118,\n",
       " 91: 985,\n",
       " 36: 1030,\n",
       " 53: 2020,\n",
       " 45: 2299,\n",
       " 39: 798,\n",
       " 20: 1028,\n",
       " 18: 1465,\n",
       " 19: 2406,\n",
       " 27: 1417,\n",
       " 47: 1885,\n",
       " 38: 1999,\n",
       " 98: 1087,\n",
       " 15: 1480,\n",
       " 46: 1853,\n",
       " 58: 543,\n",
       " 26: 2006,\n",
       " 72: 2062,\n",
       " 25: 648,\n",
       " 65: 717,\n",
       " 28: 1843,\n",
       " 30: 416,\n",
       " 48: 697,\n",
       " 35: 1512,\n",
       " 34: 2311,\n",
       " 69: 2150,\n",
       " 71: 24,\n",
       " 33: 2019,\n",
       " 63: 1173,\n",
       " 12: 1584,\n",
       " 29: 1705,\n",
       " 64: 975,\n",
       " 52: 1653,\n",
       " 31: 1923,\n",
       " 32: 1949,\n",
       " 1: 1719,\n",
       " 0: 156,\n",
       " 41: 2038,\n",
       " 42: 140,\n",
       " 11: 2260,\n",
       " 14: 1659,\n",
       " 13: 441,\n",
       " 59: 384}"
      ]
     },
     "execution_count": 9,
     "metadata": {},
     "output_type": "execute_result"
    }
   ],
   "source": [
    "dict_for_model"
   ]
  }
 ],
 "metadata": {
  "kernelspec": {
   "display_name": "Python 3 (ipykernel)",
   "language": "python",
   "name": "python3"
  },
  "language_info": {
   "codemirror_mode": {
    "name": "ipython",
    "version": 3
   },
   "file_extension": ".py",
   "mimetype": "text/x-python",
   "name": "python",
   "nbconvert_exporter": "python",
   "pygments_lexer": "ipython3",
   "version": "3.9.13"
  }
 },
 "nbformat": 4,
 "nbformat_minor": 5
}
