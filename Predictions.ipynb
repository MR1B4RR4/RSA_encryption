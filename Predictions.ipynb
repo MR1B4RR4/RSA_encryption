{
 "cells": [
  {
   "cell_type": "code",
   "execution_count": 2,
   "metadata": {},
   "outputs": [
    {
     "name": "stderr",
     "output_type": "stream",
     "text": [
      "c:\\Users\\USER\\AppData\\Local\\Programs\\Python\\Python311\\Lib\\site-packages\\tqdm\\auto.py:21: TqdmWarning: IProgress not found. Please update jupyter and ipywidgets. See https://ipywidgets.readthedocs.io/en/stable/user_install.html\n",
      "  from .autonotebook import tqdm as notebook_tqdm\n"
     ]
    },
    {
     "name": "stdout",
     "output_type": "stream",
     "text": [
      "Llave publica:  (20611, 51983) \n",
      "Llave privada:  51523\n",
      "\n",
      "Mensaje numero:  87839394758579\n",
      "\n",
      "Mensaje numero cut:  [8783, 9394, 7585, 7900]\n",
      "\n",
      "Mensaje encriptado:  [4076, 26544, 13747, 14078]\n",
      "\n",
      "Mensaje desencriptado:  mistake\n"
     ]
    }
   ],
   "source": [
    "import pandas as pd\t\n",
    "import numpy as np\n",
    "from autogluon.tabular import TabularPredictor\n",
    "from Crypto_algorithm import *"
   ]
  },
  {
   "cell_type": "code",
   "execution_count": 3,
   "metadata": {},
   "outputs": [],
   "source": [
    "predictor = TabularPredictor.load(\"autogluon_models_2\")"
   ]
  },
  {
   "cell_type": "code",
   "execution_count": 4,
   "metadata": {},
   "outputs": [],
   "source": [
    "prime_1 = 227\n",
    "prime_2 = 229"
   ]
  },
  {
   "cell_type": "code",
   "execution_count": 5,
   "metadata": {},
   "outputs": [],
   "source": [
    "ej_public_key, ej_private_key =  RSA_generate(prime_1,prime_2)\n",
    "\n",
    "\n",
    "prediction_texts = ['ar', 'two', 'unaffected', 'one', 'alteration', 'apartments', 'celebrated', 'but']\n",
    "prediction_numbers = [map_string_to_numbers(i) for i in prediction_texts]\n",
    "prediction_numbers_cut = [separate_number_into_groups_of_four(map_string_to_numbers(i)) for i in prediction_texts]\n",
    "prediction_encrypted = [RSA_encryption(i, ej_public_key) for i in prediction_texts]\n",
    "\n",
    "\n",
    "predictions_df = pd.DataFrame({\n",
    "    'texts': prediction_texts,\n",
    "    'token': prediction_numbers,\n",
    "    'token_cut': prediction_numbers_cut,\n",
    "    'encrypted': prediction_encrypted\n",
    "    })"
   ]
  },
  {
   "cell_type": "code",
   "execution_count": 6,
   "metadata": {},
   "outputs": [],
   "source": [
    "predictions = []\n",
    "for i in predictions_df['encrypted'].values:\n",
    "    new_data = pd.DataFrame({ 'encrypted': i})\n",
    "    lista_new = list(predictor.predict(new_data))\n",
    "    lista_new_rounded = [round(i) for i in lista_new]\n",
    "    predictions.append(lista_new_rounded)\n",
    "\n",
    "predictions_df['predictions'] = predictions"
   ]
  },
  {
   "cell_type": "code",
   "execution_count": 13,
   "metadata": {},
   "outputs": [],
   "source": [
    "predictions_df['prediction_token'] = predictions_df['predictions'].apply(lambda x: ''.join(str(num) for num in x))\n",
    "predictions_df['prediction_string'] = predictions_df['prediction_token'].apply(lambda x: map_numbers_to_string(x))"
   ]
  },
  {
   "cell_type": "code",
   "execution_count": 14,
   "metadata": {},
   "outputs": [
    {
     "data": {
      "text/html": [
       "<div>\n",
       "<style scoped>\n",
       "    .dataframe tbody tr th:only-of-type {\n",
       "        vertical-align: middle;\n",
       "    }\n",
       "\n",
       "    .dataframe tbody tr th {\n",
       "        vertical-align: top;\n",
       "    }\n",
       "\n",
       "    .dataframe thead th {\n",
       "        text-align: right;\n",
       "    }\n",
       "</style>\n",
       "<table border=\"1\" class=\"dataframe\">\n",
       "  <thead>\n",
       "    <tr style=\"text-align: right;\">\n",
       "      <th></th>\n",
       "      <th>texts</th>\n",
       "      <th>token</th>\n",
       "      <th>token_cut</th>\n",
       "      <th>encrypted</th>\n",
       "      <th>predictions</th>\n",
       "      <th>prediction_token</th>\n",
       "      <th>prediction_string</th>\n",
       "    </tr>\n",
       "  </thead>\n",
       "  <tbody>\n",
       "    <tr>\n",
       "      <th>0</th>\n",
       "      <td>ar</td>\n",
       "      <td>7592</td>\n",
       "      <td>[7592]</td>\n",
       "      <td>[13627]</td>\n",
       "      <td>[7601]</td>\n",
       "      <td>7601</td>\n",
       "      <td>b</td>\n",
       "    </tr>\n",
       "    <tr>\n",
       "      <th>1</th>\n",
       "      <td>two</td>\n",
       "      <td>949789</td>\n",
       "      <td>[9497, 8900]</td>\n",
       "      <td>[24904, 6365]</td>\n",
       "      <td>[9477, 8889]</td>\n",
       "      <td>94778889</td>\n",
       "      <td>tcno</td>\n",
       "    </tr>\n",
       "    <tr>\n",
       "      <th>2</th>\n",
       "      <td>unaffected</td>\n",
       "      <td>95887580807977947978</td>\n",
       "      <td>[9588, 7580, 8079, 7794, 7978]</td>\n",
       "      <td>[14872, 50145, 40200, 36283, 22997]</td>\n",
       "      <td>[9567, 7584, 8083, 7803, 7980]</td>\n",
       "      <td>95677584808378037980</td>\n",
       "      <td>uYajfidef</td>\n",
       "    </tr>\n",
       "    <tr>\n",
       "      <th>3</th>\n",
       "      <td>one</td>\n",
       "      <td>898879</td>\n",
       "      <td>[8988, 7900]</td>\n",
       "      <td>[32774, 14078]</td>\n",
       "      <td>[8977, 7904]</td>\n",
       "      <td>89777904</td>\n",
       "      <td>oce</td>\n",
       "    </tr>\n",
       "    <tr>\n",
       "      <th>4</th>\n",
       "      <td>alteration</td>\n",
       "      <td>75869479927594838988</td>\n",
       "      <td>[7586, 9479, 9275, 9483, 8988]</td>\n",
       "      <td>[5858, 24863, 25310, 11773, 32774]</td>\n",
       "      <td>[7595, 9459, 9258, 9463, 8977]</td>\n",
       "      <td>75959459925894638977</td>\n",
       "      <td>autQrPtUoc</td>\n",
       "    </tr>\n",
       "    <tr>\n",
       "      <th>5</th>\n",
       "      <td>apartments</td>\n",
       "      <td>75907592948779889493</td>\n",
       "      <td>[7590, 7592, 9487, 7988, 9493]</td>\n",
       "      <td>[41398, 13627, 6120, 33498, 37083]</td>\n",
       "      <td>[7601, 7601, 9374, 7993, 9476]</td>\n",
       "      <td>76017601937479939476</td>\n",
       "      <td>bbs`estb</td>\n",
       "    </tr>\n",
       "    <tr>\n",
       "      <th>6</th>\n",
       "      <td>celebrated</td>\n",
       "      <td>77798679769275947978</td>\n",
       "      <td>[7779, 8679, 7692, 7594, 7978]</td>\n",
       "      <td>[21257, 14891, 2196, 12269, 22997]</td>\n",
       "      <td>[7785, 8671, 7702, 7603, 7980]</td>\n",
       "      <td>77858671770276037980</td>\n",
       "      <td>ckl]cbef</td>\n",
       "    </tr>\n",
       "    <tr>\n",
       "      <th>7</th>\n",
       "      <td>but</td>\n",
       "      <td>769594</td>\n",
       "      <td>[7695, 9400]</td>\n",
       "      <td>[3645, 4519]</td>\n",
       "      <td>[7704, 9383]</td>\n",
       "      <td>77049383</td>\n",
       "      <td>csi</td>\n",
       "    </tr>\n",
       "  </tbody>\n",
       "</table>\n",
       "</div>"
      ],
      "text/plain": [
       "        texts                 token                       token_cut  \\\n",
       "0          ar                  7592                          [7592]   \n",
       "1         two                949789                    [9497, 8900]   \n",
       "2  unaffected  95887580807977947978  [9588, 7580, 8079, 7794, 7978]   \n",
       "3         one                898879                    [8988, 7900]   \n",
       "4  alteration  75869479927594838988  [7586, 9479, 9275, 9483, 8988]   \n",
       "5  apartments  75907592948779889493  [7590, 7592, 9487, 7988, 9493]   \n",
       "6  celebrated  77798679769275947978  [7779, 8679, 7692, 7594, 7978]   \n",
       "7         but                769594                    [7695, 9400]   \n",
       "\n",
       "                             encrypted                     predictions  \\\n",
       "0                              [13627]                          [7601]   \n",
       "1                        [24904, 6365]                    [9477, 8889]   \n",
       "2  [14872, 50145, 40200, 36283, 22997]  [9567, 7584, 8083, 7803, 7980]   \n",
       "3                       [32774, 14078]                    [8977, 7904]   \n",
       "4   [5858, 24863, 25310, 11773, 32774]  [7595, 9459, 9258, 9463, 8977]   \n",
       "5   [41398, 13627, 6120, 33498, 37083]  [7601, 7601, 9374, 7993, 9476]   \n",
       "6   [21257, 14891, 2196, 12269, 22997]  [7785, 8671, 7702, 7603, 7980]   \n",
       "7                         [3645, 4519]                    [7704, 9383]   \n",
       "\n",
       "       prediction_token prediction_string  \n",
       "0                  7601                 b  \n",
       "1              94778889              tcno  \n",
       "2  95677584808378037980         uYajfidef  \n",
       "3              89777904               oce  \n",
       "4  75959459925894638977        autQrPtUoc  \n",
       "5  76017601937479939476          bbs`estb  \n",
       "6  77858671770276037980          ckl]cbef  \n",
       "7              77049383               csi  "
      ]
     },
     "execution_count": 14,
     "metadata": {},
     "output_type": "execute_result"
    }
   ],
   "source": [
    "predictions_df"
   ]
  }
 ],
 "metadata": {
  "kernelspec": {
   "display_name": "Python 3",
   "language": "python",
   "name": "python3"
  },
  "language_info": {
   "codemirror_mode": {
    "name": "ipython",
    "version": 3
   },
   "file_extension": ".py",
   "mimetype": "text/x-python",
   "name": "python",
   "nbconvert_exporter": "python",
   "pygments_lexer": "ipython3",
   "version": "3.11.4"
  }
 },
 "nbformat": 4,
 "nbformat_minor": 2
}
